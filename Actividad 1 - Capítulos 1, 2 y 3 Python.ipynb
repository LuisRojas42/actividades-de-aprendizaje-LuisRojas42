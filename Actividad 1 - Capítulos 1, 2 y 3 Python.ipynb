{
 "cells": [
  {
   "cell_type": "code",
   "execution_count": 8,
   "id": "e2f134b4-aad0-4875-b946-75b2b6879df6",
   "metadata": {},
   "outputs": [
    {
     "name": "stdout",
     "output_type": "stream",
     "text": [
      "Hello World\n"
     ]
    }
   ],
   "source": [
    "# Luis Eduardo Rojas Zepeda - A01794121\n",
    "# Module 1\n",
    "# Python Basics\n",
    "\n",
    "print(\"Hello World\")"
   ]
  },
  {
   "cell_type": "code",
   "execution_count": 9,
   "id": "87f119bb-bb38-4472-82a6-001c40b6ccd9",
   "metadata": {},
   "outputs": [
    {
     "data": {
      "text/plain": [
       "str"
      ]
     },
     "execution_count": 9,
     "metadata": {},
     "output_type": "execute_result"
    }
   ],
   "source": [
    "# Types\n",
    "type(24)\n",
    "type(True)\n",
    "type(\"Python\")"
   ]
  },
  {
   "cell_type": "code",
   "execution_count": null,
   "id": "61325207-788b-4386-9016-f0a0d61644e8",
   "metadata": {},
   "outputs": [],
   "source": [
    "# Expressions\n",
    "43 + 60 + 16 + 41\n",
    "50 - 60\n",
    "5 * 5\n",
    "25 / 5\n",
    "25 / 6\n",
    "25 // 6\n",
    "2 * 60 + 30\n",
    "30 + 2 * 60\n",
    "(30 + 2) * 60\n",
    "\n",
    "# Variables\n",
    "my_variable = 1\n",
    "my_variable:1\n",
    "x = 43 + 60 + 16 + 41\n",
    "y = x / 60\n",
    "total_min = 43 + 42 + 57\n",
    "total_hr = total_min / 60"
   ]
  },
  {
   "cell_type": "code",
   "execution_count": 28,
   "id": "f23abfd1-215f-45a6-a46f-47e88cc67f3f",
   "metadata": {},
   "outputs": [
    {
     "name": "stdout",
     "output_type": "stream",
     "text": [
      "Michael Jackson \\ is the best\n",
      "Michael Jackson \n",
      " is the best\n",
      "Michael Jackson \\t is the best\n",
      "Michael Jackson \\ is the best\n"
     ]
    },
    {
     "data": {
      "text/plain": [
       "5"
      ]
     },
     "execution_count": 28,
     "metadata": {},
     "output_type": "execute_result"
    }
   ],
   "source": [
    "# String Operations\n",
    "\n",
    "\"1 2 3 4 5 6\"\n",
    "Name = \"Michael Jackson\"\n",
    "Name[0]\n",
    "Name[-15]\n",
    "Name[0:4]\n",
    "Name[8:12]\n",
    "Name[::2]\n",
    "Statement = Name + \"is the best\"\n",
    "3 * \" Michael Jackson\"\n",
    "\n",
    "# Escape Sequences\n",
    "# \\\n",
    "print(\"Michael Jackson \\\\ is the best\")\n",
    "print(\"Michael Jackson \\n is the best\")\n",
    "print(r\"Michael Jackson \\t is the best\")\n",
    "print(\"Michael Jackson \\\\ is the best\")\n",
    "\n",
    "# Methonds\n",
    "A = \"Michael jackson is the best\"\n",
    "B = A.replace(\"Michael\", \"Janet\")\n",
    "B\n",
    "Name.find('el')\n"
   ]
  },
  {
   "cell_type": "code",
   "execution_count": 32,
   "id": "00873259-c555-49e9-b7bb-adbb4d86fdea",
   "metadata": {},
   "outputs": [
    {
     "data": {
      "text/plain": [
       "'HELLO'"
      ]
     },
     "execution_count": 32,
     "metadata": {},
     "output_type": "execute_result"
    }
   ],
   "source": [
    "# Variable\n",
    "\n",
    "myvar = 'hello'\n",
    "myvar.upper()"
   ]
  },
  {
   "cell_type": "code",
   "execution_count": 35,
   "id": "4a774245-cf7c-44f1-86cb-10f8075386f0",
   "metadata": {},
   "outputs": [],
   "source": [
    "# Modelue 2\n",
    "# Data Structures"
   ]
  },
  {
   "cell_type": "code",
   "execution_count": 51,
   "id": "e4829033-ad57-4504-98e4-b66d889cca45",
   "metadata": {},
   "outputs": [
    {
     "data": {
      "text/plain": [
       "'Michales Jackson'"
      ]
     },
     "execution_count": 51,
     "metadata": {},
     "output_type": "execute_result"
    }
   ],
   "source": [
    "# List and tuples\n",
    "\n",
    "# Tuples\n",
    "\n",
    "Ratings = (10, 9, 6, 5, 10, 8, 9, 6, 2)\n",
    "\n",
    "tuple1 = ('disco', 10, 1.2)\n",
    "type(tuple1)\n",
    "tuple1[0]\n",
    "tuple1[-1]\n",
    "\n",
    "tuple2 = tuple1 + (\"hard rock\", 10)\n",
    "tuple2\n",
    "tuple2[0:3]\n",
    "tuple2[3:5]\n",
    "len(tuple2)\n",
    "\n",
    "Ratings1 = Ratings\n",
    "RatingsSorted = sorted(Ratings)\n",
    "\n",
    "NT = (1, 2, (\"pop\", \"rock\"), (3,4), (\"disco\", (1,2)))\n",
    "NT[2][1]\n"
   ]
  },
  {
   "cell_type": "code",
   "execution_count": 59,
   "id": "3a2b5317-1594-4151-bc93-95174878dbbe",
   "metadata": {},
   "outputs": [
    {
     "data": {
      "text/plain": [
       "['Michales Jackson', 10.1, 1982, [1, 2], ('A', 1), 'pop', 10, ['pop', 10]]"
      ]
     },
     "execution_count": 59,
     "metadata": {},
     "output_type": "execute_result"
    }
   ],
   "source": [
    "# List\n",
    "\n",
    "L = [\"Michales Jackson\", 10.1, 1982, [1,2], ('A',1)]\n",
    "L[0]\n",
    "L[-1]\n",
    "L1 = L +[\"pop\", 10]\n",
    "L1\n",
    "L.extend([\"pop\", 10])\n",
    "L\n",
    "L.append([\"pop\", 10])\n",
    "L"
   ]
  },
  {
   "cell_type": "code",
   "execution_count": 65,
   "id": "8e9fb088-5dc0-49e9-935a-6b0d9c2d913f",
   "metadata": {},
   "outputs": [],
   "source": [
    "A = [\"disco\", 10, 1.2]\n",
    "A[0] = \"hard rock\"\n",
    "A = [\"hard rock\", 10, 1.2]\n",
    "A\n",
    "del(A[0])\n",
    "\"hard rock\".split()\n",
    "\"A,B,C,D\".split(\",\")\n",
    "B = A[:]"
   ]
  },
  {
   "cell_type": "code",
   "execution_count": 80,
   "id": "e22277c8-56fd-420a-84dd-ce00f7d01e72",
   "metadata": {},
   "outputs": [
    {
     "data": {
      "text/plain": [
       "False"
      ]
     },
     "execution_count": 80,
     "metadata": {},
     "output_type": "execute_result"
    }
   ],
   "source": [
    "# Sets\n",
    "\n",
    "Set1 = {\"pop\", \"rock\", \"hard rock\", \"rock\", \"R&B\", \"rock\", \"disco\"}\n",
    "Set1\n",
    "album_list = [\"Michael Jackson\", \"Thriller\", \"Thriller\", \"1982\"]\n",
    "album_set = set(album_list)\n",
    "album_set\n",
    "A = {\"Thriller\", \"Black in Black\", \"AC/DC\"}\n",
    "A.add(\"NSYNC\")\n",
    "A.remove(\"NSYNC\")\n",
    "A\n",
    "\"AC/DC\" in A\n",
    "\"Who\" in A"
   ]
  },
  {
   "cell_type": "code",
   "execution_count": 86,
   "id": "f6c4d909-608b-46d5-b0a4-73188deeb279",
   "metadata": {},
   "outputs": [
    {
     "data": {
      "text/plain": [
       "True"
      ]
     },
     "execution_count": 86,
     "metadata": {},
     "output_type": "execute_result"
    }
   ],
   "source": [
    "album_set_1 = {\"Thriller\", \"Black in Black\", \"AC/DC\"}\n",
    "album_set_2 = {\"AC/DC\", \"Black in Black\", \"The Dark side of the Moon\"}\n",
    "album_set_3 = album_set_1 & album_set_1\n",
    "album_set_1.union(album_set_2)\n",
    "album_set_3.issubset(album_set_1)"
   ]
  },
  {
   "cell_type": "code",
   "execution_count": 89,
   "id": "8c15c27d-801f-48ff-accf-c605566cf25f",
   "metadata": {},
   "outputs": [
    {
     "data": {
      "text/plain": [
       "{'A', 'C'}"
      ]
     },
     "execution_count": 89,
     "metadata": {},
     "output_type": "execute_result"
    }
   ],
   "source": [
    "S={'A','B','C'} \n",
    "U={'A','Z','C'} \n",
    "U.union(S)\n",
    "\n",
    "S={'A','B','C'}\n",
    "U={'A','Z','C'}\n",
    "S & U"
   ]
  },
  {
   "cell_type": "code",
   "execution_count": 100,
   "id": "2a220897-4e02-42dd-a4a5-d76d9b14d9ad",
   "metadata": {},
   "outputs": [
    {
     "data": {
      "text/plain": [
       "dict_values([1980, 1973, 1992])"
      ]
     },
     "execution_count": 100,
     "metadata": {},
     "output_type": "execute_result"
    }
   ],
   "source": [
    "# Dictionaries\n",
    "\n",
    "D = {\"key1\":1, \"key2\":\"2\", \"key3\":[3,3,3],\"key4\":(4,4,4), ('key5'):5}\n",
    "Dicc = {\"Thriller\":1982, \"Bak in Black\":1980, \"The Dark Side of the Moon\":1973}\n",
    "Dicc[\"Thriller\"]\n",
    "Dicc[\"The Bodyguard\"] = 1992\n",
    "Dicc\n",
    "del(Dicc[\"Thriller\"])\n",
    "\"Starboy\" in Dicc\n",
    "Dicc.keys()\n",
    "Dicc.values()"
   ]
  },
  {
   "cell_type": "code",
   "execution_count": 1,
   "id": "dcdf23d6-420b-4b39-9d40-9ad4c2f4ab88",
   "metadata": {},
   "outputs": [
    {
     "data": {
      "text/plain": [
       "(4, 4, 4)"
      ]
     },
     "execution_count": 1,
     "metadata": {},
     "output_type": "execute_result"
    }
   ],
   "source": [
    "Dict={\"A\":1,\"B\":\"2\",\"C\":[3,3,3],\"D\":(4,4,4),'E':5,'F':6} \n",
    "Dict[\"D\"]"
   ]
  },
  {
   "cell_type": "code",
   "execution_count": 18,
   "id": "1efb0046-2652-4cf3-972b-90a5ced6f746",
   "metadata": {},
   "outputs": [
    {
     "name": "stdout",
     "output_type": "stream",
     "text": [
      "you can enter\n",
      "move on\n",
      "The Album was made in the 70's or 90's\n",
      "The Album was made in the 80's\n"
     ]
    }
   ],
   "source": [
    "# Module 3\n",
    "\n",
    "# Conditions \n",
    "a=6\n",
    "a==7\n",
    "a==6\n",
    "i=6\n",
    "i>5\n",
    "i!=6\n",
    "\"AC/DC\" == \"Michael Jackson\"\n",
    "\"AC/DC\" != \"Michael Jackson\"\n",
    "\n",
    "# Branching\n",
    "age=19\n",
    "if(age > 18):\n",
    "    print(\"you can enter\")\n",
    "elif(age==18):\n",
    "    print(\"go see Pink Floyd\")\n",
    "else:\n",
    "    print(\"go see Load\")\n",
    "    \n",
    "print(\"move on\")\n",
    "\n",
    "album_year = 1990\n",
    "\n",
    "if(album_year < 1980) or (album_year > 1989):\n",
    "    print(\"The Album was made in the 70's or 90's\")\n",
    "else:\n",
    "    print(\"The Album was made in the 1980's\")\n",
    "\n",
    "\n",
    "album_year = 1983\n",
    "\n",
    "if(album_year > 1979) or (album_year < 1990):\n",
    "    print(\"The Album was made in the 80's\")\n"
   ]
  },
  {
   "cell_type": "code",
   "execution_count": 26,
   "id": "b4922357-0b40-44e7-8030-9dfc97bb4e9f",
   "metadata": {},
   "outputs": [
    {
     "name": "stdout",
     "output_type": "stream",
     "text": [
      "red 0\n",
      "yellow 1\n",
      "green 2\n"
     ]
    }
   ],
   "source": [
    "# Loops\n",
    "\n",
    "range(3)\n",
    "squares = [\"red\", \"yellow\", \"green\", \"purple\", \"blue\"]\n",
    "\n",
    "for i in range(0,5):\n",
    "    squares [i] = \"white\"\n",
    "    \n",
    "squares\n",
    "\n",
    "squares = [\"red\", \"yellow\", \"green\"]\n",
    "\n",
    "#for square in squares:\n",
    "#   print(square)\n",
    "\n",
    "for i, square in enumerate(squares):\n",
    "    print(square, i)\n",
    "\n",
    "squares = [\"orange\", \"orange\", \"purple\", \"blue\"]\n",
    "newsquares = []\n",
    "i=0\n",
    "\n",
    "while(squares[i]== 'orange'):\n",
    "    newsquares.append(squares[i])\n",
    "    i=i+1 \n",
    "\n"
   ]
  },
  {
   "cell_type": "code",
   "execution_count": 47,
   "id": "6030025b-ef7f-4d05-9452-5a144a467a08",
   "metadata": {},
   "outputs": [
    {
     "name": "stdout",
     "output_type": "stream",
     "text": [
      "Michael Jackson\n",
      "None\n",
      "Album 0 Rainting is 8\n",
      "Album 1 Rainting is 9\n",
      "Album 2 Rainting is 10\n",
      "['Machael Jackson', 'AC(DC', 'PinkFloyd']\n",
      "ACDC\n"
     ]
    },
    {
     "data": {
      "text/plain": [
       "'ACDC'"
      ]
     },
     "execution_count": 47,
     "metadata": {},
     "output_type": "execute_result"
    }
   ],
   "source": [
    "# Functions\n",
    "\n",
    "#def f1(input):\n",
    "#    output=input+1\n",
    "    \n",
    "album_rating = [10,8,9]\n",
    "len(album_rating)\n",
    "\n",
    "S = sum(album_rating)\n",
    "S\n",
    "\n",
    "sorted_album_ratings = sorted(album_rating)\n",
    "sorted_album_ratings\n",
    "\n",
    "album_rating.sort()\n",
    "album_rating\n",
    "\n",
    "def add1(a):\n",
    "    \"\"\"\n",
    "    add 1 to a\n",
    "    \"\"\"\n",
    "    b = a + 1\n",
    "\n",
    "    return b\n",
    "\n",
    "add1(5)\n",
    "c = add1(10)\n",
    "d = add1(8)\n",
    "\n",
    "def Mult(a,b):\n",
    "    c = a*b\n",
    "    return c\n",
    "\n",
    "Mult(2,3)\n",
    "\n",
    "def MJ():\n",
    "    print(\"Michael Jackson\")\n",
    "    \n",
    "MJ()\n",
    "\n",
    "def NoWork():\n",
    "    pass\n",
    "\n",
    "print(NoWork())\n",
    "\n",
    "def printStuff(Stuff):\n",
    "    \n",
    "    for i, s in enumerate(Stuff):\n",
    "        print(\"Album\", i, \"Rainting is\", s)\n",
    "\n",
    "printStuff(album_rating)\n",
    "\n",
    "def ArtistName(*names):\n",
    "    for name in names:\n",
    "        print(name)\n",
    "        \n",
    "names = [\"Machael Jackson\",\"AC(DC\",\"PinkFloyd\"]\n",
    "ArtistName(names)\n",
    "\n",
    "def addDC(x):\n",
    "    x = x + \"DC\"\n",
    "    print(x)\n",
    "    return x\n",
    "\n",
    "x = \"AC\"\n",
    "addDC(x)"
   ]
  },
  {
   "cell_type": "code",
   "execution_count": 57,
   "id": "61a03bef-915b-4abe-bd6e-b45b63157e4a",
   "metadata": {},
   "outputs": [],
   "source": [
    "# Objects and Classes\n",
    "\n",
    "class Circle(object):\n",
    "\n",
    "    def __init__(self, radius, color):\n",
    "        self.radius = radius\n",
    "        self.color = color\n",
    "        \n",
    "    def add_radius(self,r):\n",
    "        self.radius = self.radius + r\n",
    "            \n",
    "        return (self.radius)\n",
    "        "
   ]
  },
  {
   "cell_type": "code",
   "execution_count": 53,
   "id": "838d7b50-6536-4fe5-b0fa-c7e7ae274cf2",
   "metadata": {},
   "outputs": [],
   "source": [
    "class Rectangule(object):\n",
    "    def __init__(self, width, height, color):\n",
    "        self.width = width\n",
    "        self.height = height\n",
    "        self.color = color"
   ]
  },
  {
   "cell_type": "code",
   "execution_count": 59,
   "id": "15ef4599-4465-4dd3-bffc-23d38c3d72d0",
   "metadata": {},
   "outputs": [
    {
     "data": {
      "text/plain": [
       "['__class__',\n",
       " '__delattr__',\n",
       " '__dict__',\n",
       " '__dir__',\n",
       " '__doc__',\n",
       " '__eq__',\n",
       " '__format__',\n",
       " '__ge__',\n",
       " '__getattribute__',\n",
       " '__gt__',\n",
       " '__hash__',\n",
       " '__init__',\n",
       " '__init_subclass__',\n",
       " '__le__',\n",
       " '__lt__',\n",
       " '__module__',\n",
       " '__ne__',\n",
       " '__new__',\n",
       " '__reduce__',\n",
       " '__reduce_ex__',\n",
       " '__repr__',\n",
       " '__setattr__',\n",
       " '__sizeof__',\n",
       " '__str__',\n",
       " '__subclasshook__',\n",
       " '__weakref__',\n",
       " 'add_radius',\n",
       " 'color',\n",
       " 'radius']"
      ]
     },
     "execution_count": 59,
     "metadata": {},
     "output_type": "execute_result"
    }
   ],
   "source": [
    "RedCircle = Circle(10,'red')\n",
    "RedCircle.radius\n",
    "RedCircle.color\n",
    "\n",
    "RedCircle.add_radius(3)\n",
    "dir(RedCircle)"
   ]
  }
 ],
 "metadata": {
  "kernelspec": {
   "display_name": "Python",
   "language": "python",
   "name": "conda-env-python-py"
  },
  "language_info": {
   "codemirror_mode": {
    "name": "ipython",
    "version": 3
   },
   "file_extension": ".py",
   "mimetype": "text/x-python",
   "name": "python",
   "nbconvert_exporter": "python",
   "pygments_lexer": "ipython3",
   "version": "3.7.12"
  }
 },
 "nbformat": 4,
 "nbformat_minor": 5
}
